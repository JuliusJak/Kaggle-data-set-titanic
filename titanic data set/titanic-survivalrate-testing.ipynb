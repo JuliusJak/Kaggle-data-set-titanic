{
 "cells": [
  {
   "cell_type": "code",
   "execution_count": 122,
   "id": "39532bf8",
   "metadata": {},
   "outputs": [],
   "source": [
    "import pandas as pd\n",
    "import seaborn as sns\n",
    "import matplotlib.pyplot as plt"
   ]
  },
  {
   "cell_type": "code",
   "execution_count": 123,
   "id": "a4160800",
   "metadata": {
    "scrolled": true
   },
   "outputs": [
    {
     "data": {
      "text/html": [
       "<div>\n",
       "<style scoped>\n",
       "    .dataframe tbody tr th:only-of-type {\n",
       "        vertical-align: middle;\n",
       "    }\n",
       "\n",
       "    .dataframe tbody tr th {\n",
       "        vertical-align: top;\n",
       "    }\n",
       "\n",
       "    .dataframe thead th {\n",
       "        text-align: right;\n",
       "    }\n",
       "</style>\n",
       "<table border=\"1\" class=\"dataframe\">\n",
       "  <thead>\n",
       "    <tr style=\"text-align: right;\">\n",
       "      <th></th>\n",
       "      <th>PassengerId</th>\n",
       "      <th>Survived</th>\n",
       "      <th>Pclass</th>\n",
       "      <th>Name</th>\n",
       "      <th>Sex</th>\n",
       "      <th>Age</th>\n",
       "      <th>SibSp</th>\n",
       "      <th>Parch</th>\n",
       "      <th>Ticket</th>\n",
       "      <th>Fare</th>\n",
       "      <th>Cabin</th>\n",
       "      <th>Embarked</th>\n",
       "    </tr>\n",
       "  </thead>\n",
       "  <tbody>\n",
       "    <tr>\n",
       "      <th>0</th>\n",
       "      <td>1</td>\n",
       "      <td>0</td>\n",
       "      <td>3</td>\n",
       "      <td>Braund, Mr. Owen Harris</td>\n",
       "      <td>male</td>\n",
       "      <td>22.0</td>\n",
       "      <td>1</td>\n",
       "      <td>0</td>\n",
       "      <td>A/5 21171</td>\n",
       "      <td>7.2500</td>\n",
       "      <td>NaN</td>\n",
       "      <td>S</td>\n",
       "    </tr>\n",
       "    <tr>\n",
       "      <th>1</th>\n",
       "      <td>2</td>\n",
       "      <td>1</td>\n",
       "      <td>1</td>\n",
       "      <td>Cumings, Mrs. John Bradley (Florence Briggs Th...</td>\n",
       "      <td>female</td>\n",
       "      <td>38.0</td>\n",
       "      <td>1</td>\n",
       "      <td>0</td>\n",
       "      <td>PC 17599</td>\n",
       "      <td>71.2833</td>\n",
       "      <td>C85</td>\n",
       "      <td>C</td>\n",
       "    </tr>\n",
       "    <tr>\n",
       "      <th>2</th>\n",
       "      <td>3</td>\n",
       "      <td>1</td>\n",
       "      <td>3</td>\n",
       "      <td>Heikkinen, Miss. Laina</td>\n",
       "      <td>female</td>\n",
       "      <td>26.0</td>\n",
       "      <td>0</td>\n",
       "      <td>0</td>\n",
       "      <td>STON/O2. 3101282</td>\n",
       "      <td>7.9250</td>\n",
       "      <td>NaN</td>\n",
       "      <td>S</td>\n",
       "    </tr>\n",
       "    <tr>\n",
       "      <th>3</th>\n",
       "      <td>4</td>\n",
       "      <td>1</td>\n",
       "      <td>1</td>\n",
       "      <td>Futrelle, Mrs. Jacques Heath (Lily May Peel)</td>\n",
       "      <td>female</td>\n",
       "      <td>35.0</td>\n",
       "      <td>1</td>\n",
       "      <td>0</td>\n",
       "      <td>113803</td>\n",
       "      <td>53.1000</td>\n",
       "      <td>C123</td>\n",
       "      <td>S</td>\n",
       "    </tr>\n",
       "    <tr>\n",
       "      <th>4</th>\n",
       "      <td>5</td>\n",
       "      <td>0</td>\n",
       "      <td>3</td>\n",
       "      <td>Allen, Mr. William Henry</td>\n",
       "      <td>male</td>\n",
       "      <td>35.0</td>\n",
       "      <td>0</td>\n",
       "      <td>0</td>\n",
       "      <td>373450</td>\n",
       "      <td>8.0500</td>\n",
       "      <td>NaN</td>\n",
       "      <td>S</td>\n",
       "    </tr>\n",
       "  </tbody>\n",
       "</table>\n",
       "</div>"
      ],
      "text/plain": [
       "   PassengerId  Survived  Pclass  \\\n",
       "0            1         0       3   \n",
       "1            2         1       1   \n",
       "2            3         1       3   \n",
       "3            4         1       1   \n",
       "4            5         0       3   \n",
       "\n",
       "                                                Name     Sex   Age  SibSp  \\\n",
       "0                            Braund, Mr. Owen Harris    male  22.0      1   \n",
       "1  Cumings, Mrs. John Bradley (Florence Briggs Th...  female  38.0      1   \n",
       "2                             Heikkinen, Miss. Laina  female  26.0      0   \n",
       "3       Futrelle, Mrs. Jacques Heath (Lily May Peel)  female  35.0      1   \n",
       "4                           Allen, Mr. William Henry    male  35.0      0   \n",
       "\n",
       "   Parch            Ticket     Fare Cabin Embarked  \n",
       "0      0         A/5 21171   7.2500   NaN        S  \n",
       "1      0          PC 17599  71.2833   C85        C  \n",
       "2      0  STON/O2. 3101282   7.9250   NaN        S  \n",
       "3      0            113803  53.1000  C123        S  \n",
       "4      0            373450   8.0500   NaN        S  "
      ]
     },
     "execution_count": 123,
     "metadata": {},
     "output_type": "execute_result"
    }
   ],
   "source": [
    "data = pd.read_csv (\"train.csv\")\n",
    "test = pd.read_csv (\"test.csv\")\n",
    "\n",
    "pd.options.display.max_rows = 10\n",
    "\n",
    "data.head()"
   ]
  },
  {
   "cell_type": "code",
   "execution_count": 124,
   "id": "c0bec599",
   "metadata": {
    "scrolled": false
   },
   "outputs": [
    {
     "data": {
      "text/plain": [
       "<Axes: xlabel='Survived', ylabel='Age'>"
      ]
     },
     "execution_count": 124,
     "metadata": {},
     "output_type": "execute_result"
    },
    {
     "data": {
      "image/png": "[encoded data removed]",
      "text/plain": [
       "<Figure size 640x480 with 1 Axes>"
      ]
     },
     "metadata": {},
     "output_type": "display_data"
    }
   ],
   "source": [
    "sns.violinplot(x=\"Survived\", y=\"Age\", data=data)\n",
    "#Vi kan se att de yngre än ca 20 och äldrä än ca 35-40 har en ojämd \"survivalrate\"\n",
    "#Detta får mig att tro att yngre överlevde bättre för att \"women and children first\" \n",
    "#samt tror jag att de äldre ca 35+ fick överleva för att de kan ha varit av högra status \n",
    "#då de hat kunnat accumelera mer tillgångar under sin livstid och är därför av högre status\n",
    "#än någon okänd och 20 åring och därför fick de \"viktigare\" personerna gå före\n",
    "#Av detta drar jag slutsatsen att \"age\" har en tillräklig påverkan för att inkluderas i mina algorithmer"
   ]
  },
  {
   "cell_type": "code",
   "execution_count": 125,
   "id": "949f0cec",
   "metadata": {
    "scrolled": false
   },
   "outputs": [
    {
     "data": {
      "text/plain": [
       "<Axes: xlabel='Survived', ylabel='SibSp'>"
      ]
     },
     "execution_count": 125,
     "metadata": {},
     "output_type": "execute_result"
    },
    {
     "data": {
      "image/png": "[encoded data removed]",
      "text/plain": [
       "<Figure size 640x480 with 1 Axes>"
      ]
     },
     "metadata": {},
     "output_type": "display_data"
    }
   ],
   "source": [
    "sns.violinplot(x=\"Survived\", y=\"SibSp\", data=data)\n",
    "#Här ser vi antalet syskon och parterns relation till \"Survivalrate\" \n",
    "#Att vara färre värkar ge en högre \"Survivalrate\" då ingen över fem syskon överlevde\n",
    "#Då de verkar vara en relativ simple ekvation där fler \"SibSp\" leder till minskad \"Survivalrate\" \n",
    "#Så finns det en avvikelse för 1 \"SibSp\" Jag tror det beror på att männen offrade sig för \n",
    "#att kvinnor och barn skulle prioriteras \"Women and children first\"\n",
    "#Av detta drar jag slutsatsen att \"SibSp\" har en tillräklig påverkan för att inkluderas i mina algorithmer\n",
    "#Jag tror även att \"sex\" kommer att ha en stor påverkan om min teori är korrekt"
   ]
  },
  {
   "cell_type": "code",
   "execution_count": 126,
   "id": "eca534cf",
   "metadata": {
    "scrolled": false
   },
   "outputs": [
    {
     "data": {
      "text/plain": [
       "<Axes: xlabel='Survived', ylabel='Sex'>"
      ]
     },
     "execution_count": 126,
     "metadata": {},
     "output_type": "execute_result"
    },
    {
     "data": {
      "image/png": "[encoded data removed]",
      "text/plain": [
       "<Figure size 640x480 with 1 Axes>"
      ]
     },
     "metadata": {},
     "output_type": "display_data"
    }
   ],
   "source": [
    "sns.violinplot(x=\"Survived\", y=\"Sex\", data=data)\n",
    "#Vi kan se att kvinnor har en högre \"survivalrate\" än män, tillräkligt för att se att \"sex\"\n",
    "#är en betydelse full parameter. Men jag vill veta mer"
   ]
  },
  {
   "cell_type": "code",
   "execution_count": 127,
   "id": "99c1624b",
   "metadata": {},
   "outputs": [
    {
     "name": "stdout",
     "output_type": "stream",
     "text": [
      "Survival rate: 38.384%\n"
     ]
    }
   ],
   "source": [
    "#Vi vill ha \"survivalrate\" för både män och kvinnor så att vi kan tydligare jämföra\n",
    "survival_and_death_rate = data['Survived'].value_counts(normalize=True)\n",
    "death_rate = survival_and_death_rate[0]\n",
    "survival_rate = survival_and_death_rate[1]\n",
    "survival_percentage = round(survival_rate, 5)*100\n",
    "print(f\"Survival rate: {survival_percentage}%\")"
   ]
  },
  {
   "cell_type": "code",
   "execution_count": 128,
   "id": "6621207f",
   "metadata": {
    "scrolled": true
   },
   "outputs": [
    {
     "name": "stdout",
     "output_type": "stream",
     "text": [
      "Sex     Survived\n",
      "female  1           0.742038\n",
      "        0           0.257962\n",
      "male    0           0.811092\n",
      "        1           0.188908\n",
      "Name: Survived, dtype: float64\n",
      "\n",
      "Survival rate female: 74.2%\n",
      "Survival rate male: 18.9%\n"
     ]
    }
   ],
   "source": [
    "#Nu har vi \"survivalrate\" av alla på Titanic men jag vill veta män och kvinnors \"survivalrate\"\n",
    "all_sex_survival_rate = data.groupby(['Sex'])['Survived'].value_counts(normalize=True)\n",
    "print(all_sex_survival_rate)\n",
    "\n",
    "female_survival = all_sex_survival_rate[0]\n",
    "male_survival = all_sex_survival_rate[3]\n",
    "\n",
    "f_su_pr = round(female_survival,3)*100\n",
    "m_su_pr = round(male_survival,3)*100\n",
    "\n",
    "print()\n",
    "print(f\"Survival rate female: {f_su_pr}%\")\n",
    "print(f\"Survival rate male: {m_su_pr}%\")\n",
    "#Nu kan vi tydigt se att \"Sex\" har en mycket stor påverkan på resultatet"
   ]
  },
  {
   "cell_type": "code",
   "execution_count": 129,
   "id": "5d4cf12f",
   "metadata": {
    "scrolled": false
   },
   "outputs": [
    {
     "data": {
      "text/plain": [
       "<Axes: xlabel='Survived', ylabel='Pclass'>"
      ]
     },
     "execution_count": 129,
     "metadata": {},
     "output_type": "execute_result"
    },
    {
     "data": {
      "image/png": "[encoded data removed]",
      "text/plain": [
       "<Figure size 640x480 with 1 Axes>"
      ]
     },
     "metadata": {},
     "output_type": "display_data"
    }
   ],
   "source": [
    "sns.violinplot(x=\"Survived\", y=\"Pclass\", data=data)\n",
    "#Vi kan se att de som sticker ut är de som var tredje klass\n",
    "#Jag tror detta beror på att det var fler passagerare som var tredje klass än första och andra\n",
    "#Dock så kan vi se att det var fler 1:a klass än 3:e klass så detta detta får mig att återigen\n",
    "#tro på att första de av högra status prioriterades över de mindre rika\n",
    "#Jag tror detta kan analyseras djupare för en bättre accuracy_score"
   ]
  },
  {
   "cell_type": "code",
   "execution_count": 130,
   "id": "1520632f",
   "metadata": {
    "scrolled": false
   },
   "outputs": [
    {
     "data": {
      "text/plain": [
       "<Axes: xlabel='Survived', ylabel='Parch'>"
      ]
     },
     "execution_count": 130,
     "metadata": {},
     "output_type": "execute_result"
    },
    {
     "data": {
      "image/png": "[encoded data removed]",
      "text/plain": [
       "<Figure size 640x480 with 1 Axes>"
      ]
     },
     "metadata": {},
     "output_type": "display_data"
    }
   ],
   "source": [
    "sns.violinplot(x=\"Survived\", y=\"Parch\", data=data)\n",
    "#Vissar liknande resultat till \"SibSp\""
   ]
  },
  {
   "cell_type": "code",
   "execution_count": null,
   "id": "a5dd20b9",
   "metadata": {},
   "outputs": [],
   "source": []
  },
  {
   "cell_type": "code",
   "execution_count": 131,
   "id": "384145aa",
   "metadata": {},
   "outputs": [
    {
     "data": {
      "text/html": [
       "<div>\n",
       "<style scoped>\n",
       "    .dataframe tbody tr th:only-of-type {\n",
       "        vertical-align: middle;\n",
       "    }\n",
       "\n",
       "    .dataframe tbody tr th {\n",
       "        vertical-align: top;\n",
       "    }\n",
       "\n",
       "    .dataframe thead th {\n",
       "        text-align: right;\n",
       "    }\n",
       "</style>\n",
       "<table border=\"1\" class=\"dataframe\">\n",
       "  <thead>\n",
       "    <tr style=\"text-align: right;\">\n",
       "      <th></th>\n",
       "      <th>Survived</th>\n",
       "      <th>Pclass</th>\n",
       "      <th>Name</th>\n",
       "      <th>Sex</th>\n",
       "      <th>Age</th>\n",
       "      <th>SibSp</th>\n",
       "      <th>Parch</th>\n",
       "      <th>Fare</th>\n",
       "      <th>Embarked</th>\n",
       "    </tr>\n",
       "  </thead>\n",
       "  <tbody>\n",
       "    <tr>\n",
       "      <th>0</th>\n",
       "      <td>0</td>\n",
       "      <td>3</td>\n",
       "      <td>Braund, Mr. Owen Harris</td>\n",
       "      <td>male</td>\n",
       "      <td>22.0</td>\n",
       "      <td>1</td>\n",
       "      <td>0</td>\n",
       "      <td>7.2500</td>\n",
       "      <td>S</td>\n",
       "    </tr>\n",
       "    <tr>\n",
       "      <th>1</th>\n",
       "      <td>1</td>\n",
       "      <td>1</td>\n",
       "      <td>Cumings, Mrs. John Bradley (Florence Briggs Th...</td>\n",
       "      <td>female</td>\n",
       "      <td>38.0</td>\n",
       "      <td>1</td>\n",
       "      <td>0</td>\n",
       "      <td>71.2833</td>\n",
       "      <td>C</td>\n",
       "    </tr>\n",
       "    <tr>\n",
       "      <th>2</th>\n",
       "      <td>1</td>\n",
       "      <td>3</td>\n",
       "      <td>Heikkinen, Miss. Laina</td>\n",
       "      <td>female</td>\n",
       "      <td>26.0</td>\n",
       "      <td>0</td>\n",
       "      <td>0</td>\n",
       "      <td>7.9250</td>\n",
       "      <td>S</td>\n",
       "    </tr>\n",
       "    <tr>\n",
       "      <th>3</th>\n",
       "      <td>1</td>\n",
       "      <td>1</td>\n",
       "      <td>Futrelle, Mrs. Jacques Heath (Lily May Peel)</td>\n",
       "      <td>female</td>\n",
       "      <td>35.0</td>\n",
       "      <td>1</td>\n",
       "      <td>0</td>\n",
       "      <td>53.1000</td>\n",
       "      <td>S</td>\n",
       "    </tr>\n",
       "    <tr>\n",
       "      <th>4</th>\n",
       "      <td>0</td>\n",
       "      <td>3</td>\n",
       "      <td>Allen, Mr. William Henry</td>\n",
       "      <td>male</td>\n",
       "      <td>35.0</td>\n",
       "      <td>0</td>\n",
       "      <td>0</td>\n",
       "      <td>8.0500</td>\n",
       "      <td>S</td>\n",
       "    </tr>\n",
       "  </tbody>\n",
       "</table>\n",
       "</div>"
      ],
      "text/plain": [
       "   Survived  Pclass                                               Name  \\\n",
       "0         0       3                            Braund, Mr. Owen Harris   \n",
       "1         1       1  Cumings, Mrs. John Bradley (Florence Briggs Th...   \n",
       "2         1       3                             Heikkinen, Miss. Laina   \n",
       "3         1       1       Futrelle, Mrs. Jacques Heath (Lily May Peel)   \n",
       "4         0       3                           Allen, Mr. William Henry   \n",
       "\n",
       "      Sex   Age  SibSp  Parch     Fare Embarked  \n",
       "0    male  22.0      1      0   7.2500        S  \n",
       "1  female  38.0      1      0  71.2833        C  \n",
       "2  female  26.0      0      0   7.9250        S  \n",
       "3  female  35.0      1      0  53.1000        S  \n",
       "4    male  35.0      0      0   8.0500        S  "
      ]
     },
     "execution_count": 131,
     "metadata": {},
     "output_type": "execute_result"
    }
   ],
   "source": [
    "\n",
    "def clean (data):# Gör en def eftersom jag behöver \"cleana\" både \"data\" och \"test\"\n",
    "    data = data.drop([\"Ticket\", \"Cabin\", \"PassengerId\"], axis = 1)\n",
    "    #Tar bort onödiga data och data som är svår att analysera utan mycket extra jobb\n",
    "    #PassengerId är helt orelevant men De andra parametrarna kan användas för att vidare optimera accuracy\n",
    "\n",
    "    #Byt ut de värden som är tomma med \"U\"\n",
    "    cols = [\"SibSp\", \"Parch\", \"Age\", \"Fare\"]\n",
    "    for col in cols:\n",
    "        data[col].fillna(data[col].median(), inplace=True)\n",
    "\n",
    "    data.Embarked.fillna(\"U\", inplace=True)\n",
    "    return data\n",
    "\n",
    "data = clean(data)\n",
    "test = clean(test)\n",
    "\n",
    "data.head()"
   ]
  },
  {
   "cell_type": "code",
   "execution_count": 132,
   "id": "bb844e12",
   "metadata": {},
   "outputs": [
    {
     "name": "stdout",
     "output_type": "stream",
     "text": [
      "[('Mr', 521), ('Miss', 182), ('Mrs', 129)]'Other', 65'\n"
     ]
    }
   ],
   "source": [
    "#Jag kommer nu att ta reda på vilka titlar är de vanligaste för att sedan kunna se \n",
    "#ifall ens title påvärkar ens survival rate\n",
    "from collections import Counter\n",
    "import re\n",
    "\n",
    "#Här tar jag ut de mest använda orden i \"Names\" genom att göra om det till en lista \n",
    "all_names = ' '.join(data['Name'].tolist())\n",
    "\n",
    "#sedan ser jag till att bara jämföra ord och inte bokstäver\n",
    "names = re.findall(r'\\b\\w+\\b', all_names)\n",
    "\n",
    "#Sen här tar jag reda på de vanligaste orden med .most_common()\n",
    "name_counts = Counter(names)\n",
    "top_names = name_counts.most_common(3)\n",
    "\n",
    "print(f\"{top_names}'Other', 65'\")\n",
    "#Jag kommer att använda \"Mr.\", \"Miss.\" och \"Mrs.\""
   ]
  },
  {
   "cell_type": "code",
   "execution_count": 133,
   "id": "11bc1e34",
   "metadata": {},
   "outputs": [
    {
     "name": "stdout",
     "output_type": "stream",
     "text": [
      "7               Palsson, Master. Gosta Leonard\n",
      "16                        Rice, Master. Eugene\n",
      "30                    Uruchurtu, Don. Manuel E\n",
      "50                  Panula, Master. Juha Niilo\n",
      "59          Goodwin, Master. William Frederick\n",
      "                        ...                   \n",
      "831            Richards, Master. George Sibley\n",
      "848                          Harper, Rev. John\n",
      "850    Andersson, Master. Sigvard Harald Elias\n",
      "869            Johnson, Master. Harold Theodor\n",
      "886                      Montvila, Rev. Juozas\n",
      "Name: Name, Length: 65, dtype: object\n"
     ]
    }
   ],
   "source": [
    "#Här är alla namn som har \"Mr.\", \"Miss.\", \"Mrs.\" eller inget av dem (t.ex. dr. eller Sir.)\n",
    "\n",
    "titles = data[data[\"Name\"].str.contains(\"Mr\\.|Miss|mrs\", case=False)]\n",
    "mr_title = data[data[\"Name\"].str.contains(\"Mr\\.\", case=False)]\n",
    "mrs_title = data[data[\"Name\"].str.contains(\"Mrs\", case=False)]\n",
    "other_title = data[data[\"Name\"].str.contains(\"Mr\\.|Miss|mrs\", case=False)==False]\n",
    "miss_title = data[data[\"Name\"].str.contains(\"Miss\", case=False)]\n",
    "\n",
    "print(other_title[\"Name\"])"
   ]
  },
  {
   "cell_type": "code",
   "execution_count": 134,
   "id": "64fccf4e",
   "metadata": {},
   "outputs": [
    {
     "name": "stdout",
     "output_type": "stream",
     "text": [
      "0      0\n",
      "1      1\n",
      "2      2\n",
      "3      1\n",
      "4      0\n",
      "      ..\n",
      "886    3\n",
      "887    2\n",
      "888    2\n",
      "889    0\n",
      "890    0\n",
      "Name: Name, Length: 891, dtype: int64\n"
     ]
    }
   ],
   "source": [
    "#Byt ut alla med en title till ett nummer\n",
    "data.loc[mr_title.index, \"Name\"] = 0\n",
    "data.loc[mrs_title.index, \"Name\"] = 1\n",
    "data.loc[miss_title.index, \"Name\"] = 2\n",
    "data.loc[other_title.index, \"Name\"] = 3\n",
    "\n",
    "data[\"Name\"] = data[\"Name\"].astype(int)\n",
    "\n",
    "print(data.Name)"
   ]
  },
  {
   "cell_type": "code",
   "execution_count": 135,
   "id": "cdf40d9b",
   "metadata": {},
   "outputs": [
    {
     "data": {
      "text/html": [
       "<div>\n",
       "<style scoped>\n",
       "    .dataframe tbody tr th:only-of-type {\n",
       "        vertical-align: middle;\n",
       "    }\n",
       "\n",
       "    .dataframe tbody tr th {\n",
       "        vertical-align: top;\n",
       "    }\n",
       "\n",
       "    .dataframe thead th {\n",
       "        text-align: right;\n",
       "    }\n",
       "</style>\n",
       "<table border=\"1\" class=\"dataframe\">\n",
       "  <thead>\n",
       "    <tr style=\"text-align: right;\">\n",
       "      <th></th>\n",
       "      <th>Survived</th>\n",
       "      <th>Pclass</th>\n",
       "      <th>Name</th>\n",
       "      <th>Sex</th>\n",
       "      <th>Age</th>\n",
       "      <th>SibSp</th>\n",
       "      <th>Parch</th>\n",
       "      <th>Fare</th>\n",
       "      <th>Embarked</th>\n",
       "    </tr>\n",
       "  </thead>\n",
       "  <tbody>\n",
       "    <tr>\n",
       "      <th>0</th>\n",
       "      <td>0</td>\n",
       "      <td>3</td>\n",
       "      <td>0</td>\n",
       "      <td>male</td>\n",
       "      <td>22.0</td>\n",
       "      <td>1</td>\n",
       "      <td>0</td>\n",
       "      <td>7.2500</td>\n",
       "      <td>S</td>\n",
       "    </tr>\n",
       "    <tr>\n",
       "      <th>1</th>\n",
       "      <td>1</td>\n",
       "      <td>1</td>\n",
       "      <td>1</td>\n",
       "      <td>female</td>\n",
       "      <td>38.0</td>\n",
       "      <td>1</td>\n",
       "      <td>0</td>\n",
       "      <td>71.2833</td>\n",
       "      <td>C</td>\n",
       "    </tr>\n",
       "    <tr>\n",
       "      <th>2</th>\n",
       "      <td>1</td>\n",
       "      <td>3</td>\n",
       "      <td>2</td>\n",
       "      <td>female</td>\n",
       "      <td>26.0</td>\n",
       "      <td>0</td>\n",
       "      <td>0</td>\n",
       "      <td>7.9250</td>\n",
       "      <td>S</td>\n",
       "    </tr>\n",
       "    <tr>\n",
       "      <th>3</th>\n",
       "      <td>1</td>\n",
       "      <td>1</td>\n",
       "      <td>1</td>\n",
       "      <td>female</td>\n",
       "      <td>35.0</td>\n",
       "      <td>1</td>\n",
       "      <td>0</td>\n",
       "      <td>53.1000</td>\n",
       "      <td>S</td>\n",
       "    </tr>\n",
       "    <tr>\n",
       "      <th>4</th>\n",
       "      <td>0</td>\n",
       "      <td>3</td>\n",
       "      <td>0</td>\n",
       "      <td>male</td>\n",
       "      <td>35.0</td>\n",
       "      <td>0</td>\n",
       "      <td>0</td>\n",
       "      <td>8.0500</td>\n",
       "      <td>S</td>\n",
       "    </tr>\n",
       "  </tbody>\n",
       "</table>\n",
       "</div>"
      ],
      "text/plain": [
       "   Survived  Pclass  Name     Sex   Age  SibSp  Parch     Fare Embarked\n",
       "0         0       3     0    male  22.0      1      0   7.2500        S\n",
       "1         1       1     1  female  38.0      1      0  71.2833        C\n",
       "2         1       3     2  female  26.0      0      0   7.9250        S\n",
       "3         1       1     1  female  35.0      1      0  53.1000        S\n",
       "4         0       3     0    male  35.0      0      0   8.0500        S"
      ]
     },
     "execution_count": 135,
     "metadata": {},
     "output_type": "execute_result"
    }
   ],
   "source": [
    "data.head()"
   ]
  },
  {
   "cell_type": "code",
   "execution_count": 136,
   "id": "56ee516e",
   "metadata": {},
   "outputs": [
    {
     "name": "stdout",
     "output_type": "stream",
     "text": [
      "Name  Survived\n",
      "0     0           0.843327\n",
      "      1           0.156673\n",
      "1     1           0.795276\n",
      "      0           0.204724\n",
      "2     1           0.697802\n",
      "      0           0.302198\n",
      "3     1           0.507692\n",
      "      0           0.492308\n",
      "Name: Survived, dtype: float64\n",
      "mr_survival:  15.67\n",
      "mrs_survival:  79.53\n",
      "miss_survival:  69.78\n",
      "other_survival:  50.77\n"
     ]
    }
   ],
   "source": [
    "all_title_survival_rate = data.groupby(['Name'])['Survived'].value_counts(normalize=True)\n",
    "print(all_title_survival_rate)\n",
    "\n",
    "mr_survival = all_title_survival_rate[0,1]\n",
    "mrs_survival = all_title_survival_rate[1,1]\n",
    "miss_survival = all_title_survival_rate[2,1]\n",
    "other_survival = all_title_survival_rate[3,1]\n",
    "\n",
    "print(\"mr_survival: \",round(mr_survival,4)*100)\n",
    "print(\"mrs_survival: \",round(mrs_survival,4)*100)\n",
    "print(\"miss_survival: \",round(miss_survival,4)*100)\n",
    "print(\"other_survival: \",round(other_survival,4)*100)\n",
    "# Den med högst Survival rate är \"mrs\">miss>other>mr\n",
    "#Detta visar att en gift kvinna har större chans att öerleva än en som inte är gift \n",
    "#Vi kan även se att \"other\" antingen drastisk ökar eller drastikt sänker en persons odds\n",
    "#beroende på \"Sex\""
   ]
  },
  {
   "cell_type": "code",
   "execution_count": 137,
   "id": "365e6bdc",
   "metadata": {},
   "outputs": [
    {
     "name": "stdout",
     "output_type": "stream",
     "text": [
      "7      male\n",
      "16     male\n",
      "30     male\n",
      "50     male\n",
      "59     male\n",
      "       ... \n",
      "831    male\n",
      "848    male\n",
      "850    male\n",
      "869    male\n",
      "886    male\n",
      "Name: Sex, Length: 65, dtype: object\n"
     ]
    }
   ],
   "source": [
    "#Meningen med denna optimering är att jag ska kunna ta reda på ifall \"other_title\"\n",
    "#ökar ens survival rate beroende på \"Sex\"\n",
    "\n",
    "print(other_title[\"Sex\"])"
   ]
  },
  {
   "cell_type": "code",
   "execution_count": 138,
   "id": "8416a182",
   "metadata": {},
   "outputs": [
    {
     "name": "stdout",
     "output_type": "stream",
     "text": [
      "Male percentage: 92.3076923076923\n",
      "Female percentage: 7.6923076923076925\n"
     ]
    }
   ],
   "source": [
    "counts = other_title[\"Sex\"].value_counts()\n",
    "total = counts.sum()\n",
    "male_pro = (counts[\"male\"] / total) * 100\n",
    "female_pro = (counts[\"female\"] / total) * 100\n",
    "print(\"Male percentage:\", male_pro)\n",
    "print(\"Female percentage:\", female_pro)\n",
    "#Vi kan se mycekt tydligt att de är män som utgör majoriteten inom gruppen \"other_title\"\n",
    "#Detta visar att tillhöra \"other_title\" istllet för \"mr_title\" drastikt öker ens survival rate\n",
    "#Då en mans överlevnad ökar från ca 15% till ca 50%"
   ]
  },
  {
   "cell_type": "code",
   "execution_count": 139,
   "id": "08174902",
   "metadata": {
    "scrolled": false
   },
   "outputs": [
    {
     "name": "stdout",
     "output_type": "stream",
     "text": [
      "['female' 'male']\n",
      "['C' 'Q' 'S' 'U']\n"
     ]
    },
    {
     "data": {
      "text/html": [
       "<div>\n",
       "<style scoped>\n",
       "    .dataframe tbody tr th:only-of-type {\n",
       "        vertical-align: middle;\n",
       "    }\n",
       "\n",
       "    .dataframe tbody tr th {\n",
       "        vertical-align: top;\n",
       "    }\n",
       "\n",
       "    .dataframe thead th {\n",
       "        text-align: right;\n",
       "    }\n",
       "</style>\n",
       "<table border=\"1\" class=\"dataframe\">\n",
       "  <thead>\n",
       "    <tr style=\"text-align: right;\">\n",
       "      <th></th>\n",
       "      <th>Survived</th>\n",
       "      <th>Pclass</th>\n",
       "      <th>Name</th>\n",
       "      <th>Sex</th>\n",
       "      <th>Age</th>\n",
       "      <th>SibSp</th>\n",
       "      <th>Parch</th>\n",
       "      <th>Fare</th>\n",
       "      <th>Embarked</th>\n",
       "    </tr>\n",
       "  </thead>\n",
       "  <tbody>\n",
       "    <tr>\n",
       "      <th>0</th>\n",
       "      <td>0</td>\n",
       "      <td>3</td>\n",
       "      <td>0</td>\n",
       "      <td>1</td>\n",
       "      <td>22.0</td>\n",
       "      <td>1</td>\n",
       "      <td>0</td>\n",
       "      <td>7.2500</td>\n",
       "      <td>2</td>\n",
       "    </tr>\n",
       "    <tr>\n",
       "      <th>1</th>\n",
       "      <td>1</td>\n",
       "      <td>1</td>\n",
       "      <td>1</td>\n",
       "      <td>0</td>\n",
       "      <td>38.0</td>\n",
       "      <td>1</td>\n",
       "      <td>0</td>\n",
       "      <td>71.2833</td>\n",
       "      <td>0</td>\n",
       "    </tr>\n",
       "    <tr>\n",
       "      <th>2</th>\n",
       "      <td>1</td>\n",
       "      <td>3</td>\n",
       "      <td>2</td>\n",
       "      <td>0</td>\n",
       "      <td>26.0</td>\n",
       "      <td>0</td>\n",
       "      <td>0</td>\n",
       "      <td>7.9250</td>\n",
       "      <td>2</td>\n",
       "    </tr>\n",
       "    <tr>\n",
       "      <th>3</th>\n",
       "      <td>1</td>\n",
       "      <td>1</td>\n",
       "      <td>1</td>\n",
       "      <td>0</td>\n",
       "      <td>35.0</td>\n",
       "      <td>1</td>\n",
       "      <td>0</td>\n",
       "      <td>53.1000</td>\n",
       "      <td>2</td>\n",
       "    </tr>\n",
       "    <tr>\n",
       "      <th>4</th>\n",
       "      <td>0</td>\n",
       "      <td>3</td>\n",
       "      <td>0</td>\n",
       "      <td>1</td>\n",
       "      <td>35.0</td>\n",
       "      <td>0</td>\n",
       "      <td>0</td>\n",
       "      <td>8.0500</td>\n",
       "      <td>2</td>\n",
       "    </tr>\n",
       "  </tbody>\n",
       "</table>\n",
       "</div>"
      ],
      "text/plain": [
       "   Survived  Pclass  Name  Sex   Age  SibSp  Parch     Fare  Embarked\n",
       "0         0       3     0    1  22.0      1      0   7.2500         2\n",
       "1         1       1     1    0  38.0      1      0  71.2833         0\n",
       "2         1       3     2    0  26.0      0      0   7.9250         2\n",
       "3         1       1     1    0  35.0      1      0  53.1000         2\n",
       "4         0       3     0    1  35.0      0      0   8.0500         2"
      ]
     },
     "execution_count": 139,
     "metadata": {},
     "output_type": "execute_result"
    }
   ],
   "source": [
    "#Jag använder en LabelEncoder för att byta ut string till siffror inom kolumnerna \"Sex\" och \"Embarked\"\n",
    "from sklearn import preprocessing\n",
    "le = preprocessing.LabelEncoder()\n",
    "\n",
    "cols = [\"Sex\", \"Embarked\"]\n",
    "\n",
    "for col in cols:\n",
    "    data [col] = le.fit_transform (data [col])\n",
    "    test [col] = le.transform (test [col])\n",
    "    print (le.classes_)\n",
    "data.head()"
   ]
  },
  {
   "cell_type": "code",
   "execution_count": 140,
   "id": "025ee215",
   "metadata": {
    "scrolled": false
   },
   "outputs": [],
   "source": [
    "import joblib\n",
    "from sklearn.linear_model import LogisticRegression\n",
    "from sklearn.model_selection import train_test_split\n",
    "from sklearn.metrics import accuracy_score\n",
    "import joblib\n"
   ]
  },
  {
   "cell_type": "markdown",
   "id": "b99dcd73",
   "metadata": {},
   "source": []
  },
  {
   "cell_type": "code",
   "execution_count": 141,
   "id": "ef355be9",
   "metadata": {},
   "outputs": [],
   "source": [
    "#En funktion för att enkelt kunna se min accuracy\n",
    "def accuracy(data):\n",
    "    y= data [\"Survived\"]\n",
    "    X= data.drop (\"Survived\", axis=1)\n",
    "\n",
    "    X_train, X_val, y_train, y_val = train_test_split(X, y, test_size=0.2, random_state=42)\n",
    "\n",
    "    global clf\n",
    "    clf = LogisticRegression (random_state=0, max_iter=1000).fit (X_train, y_train)\n",
    "\n",
    "    predictions = clf.predict (X_val)\n",
    "    accuracy_score (y_val, predictions)\n",
    "\n",
    "    accuracy = accuracy_score (y_val, predictions)\n",
    "    accuracy_percentage = round(accuracy, 4)\n",
    "\n",
    "    #joblib.dump(clf, \"model.joblib\")\n",
    "    return accuracy_score (y_val, predictions)\n"
   ]
  },
  {
   "cell_type": "code",
   "execution_count": 142,
   "id": "957995f0",
   "metadata": {},
   "outputs": [
    {
     "data": {
      "text/plain": [
       "0.7988826815642458"
      ]
     },
     "execution_count": 142,
     "metadata": {},
     "output_type": "execute_result"
    }
   ],
   "source": [
    "accuracy(data)"
   ]
  },
  {
   "cell_type": "code",
   "execution_count": 143,
   "id": "7bf77cdd",
   "metadata": {},
   "outputs": [],
   "source": [
    "#Jag testade med och utan \"Name\" och accuracy_score ökade från 79.89% till -> 81.01%\n",
    "#när jag tog bort \"Name\" från min algoritm\n",
    "#Jag tror att anledningen till att varför accuracy_score minskar när jag lägger till \"Name\"\n",
    "#är för att datan är obalanserad och att min metod för att sortera dem inte är tillräkligt bra.\n",
    "#Jag tror även att det jag borde ta reda på mer om relationen som titlar har till både \"Survival\"\n",
    "#och annat som \"Age\", \"Sex\" m.m."
   ]
  },
  {
   "cell_type": "code",
   "execution_count": 144,
   "id": "21553efe",
   "metadata": {},
   "outputs": [
    {
     "data": {
      "text/html": [
       "<div>\n",
       "<style scoped>\n",
       "    .dataframe tbody tr th:only-of-type {\n",
       "        vertical-align: middle;\n",
       "    }\n",
       "\n",
       "    .dataframe tbody tr th {\n",
       "        vertical-align: top;\n",
       "    }\n",
       "\n",
       "    .dataframe thead th {\n",
       "        text-align: right;\n",
       "    }\n",
       "</style>\n",
       "<table border=\"1\" class=\"dataframe\">\n",
       "  <thead>\n",
       "    <tr style=\"text-align: right;\">\n",
       "      <th></th>\n",
       "      <th>Survived</th>\n",
       "      <th>Pclass</th>\n",
       "      <th>Name</th>\n",
       "      <th>Sex</th>\n",
       "      <th>Age</th>\n",
       "      <th>SibSp</th>\n",
       "      <th>Parch</th>\n",
       "      <th>Fare</th>\n",
       "      <th>Embarked</th>\n",
       "    </tr>\n",
       "  </thead>\n",
       "  <tbody>\n",
       "    <tr>\n",
       "      <th>0</th>\n",
       "      <td>0</td>\n",
       "      <td>3</td>\n",
       "      <td>0</td>\n",
       "      <td>1</td>\n",
       "      <td>22.0</td>\n",
       "      <td>1</td>\n",
       "      <td>0</td>\n",
       "      <td>7.2500</td>\n",
       "      <td>2</td>\n",
       "    </tr>\n",
       "    <tr>\n",
       "      <th>1</th>\n",
       "      <td>1</td>\n",
       "      <td>1</td>\n",
       "      <td>1</td>\n",
       "      <td>0</td>\n",
       "      <td>38.0</td>\n",
       "      <td>1</td>\n",
       "      <td>0</td>\n",
       "      <td>71.2833</td>\n",
       "      <td>0</td>\n",
       "    </tr>\n",
       "    <tr>\n",
       "      <th>2</th>\n",
       "      <td>1</td>\n",
       "      <td>3</td>\n",
       "      <td>2</td>\n",
       "      <td>0</td>\n",
       "      <td>26.0</td>\n",
       "      <td>0</td>\n",
       "      <td>0</td>\n",
       "      <td>7.9250</td>\n",
       "      <td>2</td>\n",
       "    </tr>\n",
       "    <tr>\n",
       "      <th>3</th>\n",
       "      <td>1</td>\n",
       "      <td>1</td>\n",
       "      <td>1</td>\n",
       "      <td>0</td>\n",
       "      <td>35.0</td>\n",
       "      <td>1</td>\n",
       "      <td>0</td>\n",
       "      <td>53.1000</td>\n",
       "      <td>2</td>\n",
       "    </tr>\n",
       "    <tr>\n",
       "      <th>4</th>\n",
       "      <td>0</td>\n",
       "      <td>3</td>\n",
       "      <td>0</td>\n",
       "      <td>1</td>\n",
       "      <td>35.0</td>\n",
       "      <td>0</td>\n",
       "      <td>0</td>\n",
       "      <td>8.0500</td>\n",
       "      <td>2</td>\n",
       "    </tr>\n",
       "  </tbody>\n",
       "</table>\n",
       "</div>"
      ],
      "text/plain": [
       "   Survived  Pclass  Name  Sex   Age  SibSp  Parch     Fare  Embarked\n",
       "0         0       3     0    1  22.0      1      0   7.2500         2\n",
       "1         1       1     1    0  38.0      1      0  71.2833         0\n",
       "2         1       3     2    0  26.0      0      0   7.9250         2\n",
       "3         1       1     1    0  35.0      1      0  53.1000         2\n",
       "4         0       3     0    1  35.0      0      0   8.0500         2"
      ]
     },
     "execution_count": 144,
     "metadata": {},
     "output_type": "execute_result"
    }
   ],
   "source": [
    "data.head()"
   ]
  },
  {
   "cell_type": "code",
   "execution_count": null,
   "id": "c627880d",
   "metadata": {},
   "outputs": [],
   "source": []
  },
  {
   "cell_type": "code",
   "execution_count": 145,
   "id": "0e158eb9",
   "metadata": {},
   "outputs": [],
   "source": [
    "#ta bort en eller flera columner för att test accuracy\n",
    "def remove_column():\n",
    "    new_df = data.drop(columns=[\"Name\"])\n",
    "\n",
    "    return accuracy(new_df)"
   ]
  },
  {
   "cell_type": "code",
   "execution_count": 146,
   "id": "87ffe922",
   "metadata": {
    "scrolled": true
   },
   "outputs": [],
   "source": [
    "#Automatiskt testa olika kombinationer av columner\n",
    "def all_columns():\n",
    "    for col in data.columns:\n",
    "        remove_column(col)\n",
    "\n",
    "    return accuracy(remove_column(col))"
   ]
  },
  {
   "cell_type": "code",
   "execution_count": 147,
   "id": "00e017eb",
   "metadata": {},
   "outputs": [],
   "source": [
    "def accuracy_diff():\n",
    "    \n",
    "    new = remove_column()\n",
    "    old = accuracy(data)\n",
    "    \n",
    "    difference = new/old\n",
    "    diff_pro = difference\n",
    "    \n",
    "    if new > old:\n",
    "        print(f\"Efficency increased by: {round(diff_pro-1,4)}%\")\n",
    "    \n",
    "    elif new < old:\n",
    "        print(f\"Efficency decreased by: {round(1-diff_pro,4)}%\")\n",
    "\n",
    "    else:\n",
    "        print(f\"No change in efficency\")\n",
    "    return new"
   ]
  },
  {
   "cell_type": "code",
   "execution_count": 148,
   "id": "1fd98318",
   "metadata": {
    "scrolled": false
   },
   "outputs": [
    {
     "name": "stdout",
     "output_type": "stream",
     "text": [
      "Efficency increased by: 0.014%\n"
     ]
    },
    {
     "data": {
      "text/plain": [
       "0.8100558659217877"
      ]
     },
     "execution_count": 148,
     "metadata": {},
     "output_type": "execute_result"
    }
   ],
   "source": [
    "accuracy_diff()"
   ]
  },
  {
   "cell_type": "code",
   "execution_count": 149,
   "id": "e096bad4",
   "metadata": {},
   "outputs": [
    {
     "name": "stdout",
     "output_type": "stream",
     "text": [
      "Dumped\n"
     ]
    }
   ],
   "source": [
    "import pickle\n",
    "with open('titanic_model.pkl', 'wb') as f:\n",
    "    pickle.dump(clf, f)\n",
    "    print(\"Dumped\")"
   ]
  },
  {
   "cell_type": "code",
   "execution_count": 150,
   "id": "d95e43bd",
   "metadata": {},
   "outputs": [
    {
     "data": {
      "text/plain": [
       "['titanic_model.joblib']"
      ]
     },
     "execution_count": 150,
     "metadata": {},
     "output_type": "execute_result"
    }
   ],
   "source": [
    "joblib.dump(clf, \"titanic_model.joblib\")\n"
   ]
  }
 ],
 "metadata": {
  "kernelspec": {
   "display_name": "Python 3 (ipykernel)",
   "language": "python",
   "name": "python3"
  },
  "language_info": {
   "codemirror_mode": {
    "name": "ipython",
    "version": 3
   },
   "file_extension": ".py",
   "mimetype": "text/x-python",
   "name": "python",
   "nbconvert_exporter": "python",
   "pygments_lexer": "ipython3",
   "version": "3.11.2"
  }
 },
 "nbformat": 4,
 "nbformat_minor": 5
}
